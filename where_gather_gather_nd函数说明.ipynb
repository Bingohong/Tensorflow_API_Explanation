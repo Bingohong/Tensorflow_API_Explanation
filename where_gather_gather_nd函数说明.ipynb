{
 "cells": [
  {
   "cell_type": "code",
   "execution_count": 1,
   "metadata": {},
   "outputs": [],
   "source": [
    "import tensorflow as tf\n",
    "tf.enable_eager_execution()\n",
    "import numpy as np"
   ]
  },
  {
   "cell_type": "markdown",
   "metadata": {},
   "source": [
    "### tf.where(condition, x, y, name)\n",
    "- 作用: 返回condition为True的元素坐标(x=y=None)\n",
    "- 返回维度: (num_true, dim_size(condition))\n",
    "    - 其中dim_size为condition的维度"
   ]
  },
  {
   "cell_type": "code",
   "execution_count": 2,
   "metadata": {},
   "outputs": [
    {
     "name": "stdout",
     "output_type": "stream",
     "text": [
      "(3, 2, 3)\n"
     ]
    }
   ],
   "source": [
    "ind = np.array([[[1, 0, 0], [0, 0, 2]],\n",
    "         [[0, 0, 3], [0, 0, 0]],\n",
    "         [[0, 5, 0], [6, 0, 0]]])\n",
    "print(ind.shape)"
   ]
  },
  {
   "cell_type": "code",
   "execution_count": 3,
   "metadata": {},
   "outputs": [
    {
     "data": {
      "text/plain": [
       "<tf.Tensor: id=2, shape=(5, 3), dtype=int64, numpy=\n",
       "array([[0, 0, 0],\n",
       "       [0, 1, 2],\n",
       "       [1, 0, 2],\n",
       "       [2, 0, 1],\n",
       "       [2, 1, 0]])>"
      ]
     },
     "execution_count": 3,
     "metadata": {},
     "output_type": "execute_result"
    }
   ],
   "source": [
    "tf.where(ind)"
   ]
  },
  {
   "cell_type": "markdown",
   "metadata": {},
   "source": [
    "- 上述tf.where操作后返回的矩阵维度是(5,3)\n",
    "- 其中5是指ind矩阵中有5个元素不为0(即True)\n",
    "- 返回的[[0, 0, 0],[0, 1, 2],[1, 0, 2],[2, 0, 1],[2, 1, 0]]为对应元素的坐标\n",
    "- 其中3是指ind矩阵的维度为3\n",
    "\n",
    "##########################################################################"
   ]
  },
  {
   "cell_type": "markdown",
   "metadata": {},
   "source": [
    "### tf.gather(params, indices, ..., axis=0)\n",
    "- 作用: 根据indices从params的指定轴axis索引元素(类似于仅能在指定轴进行一维索引)\n",
    "- 返回维度: params.shape[:axis] + indices.shape + params.shape[axis + 1:]"
   ]
  },
  {
   "cell_type": "code",
   "execution_count": 4,
   "metadata": {},
   "outputs": [
    {
     "name": "stdout",
     "output_type": "stream",
     "text": [
      "(3, 2, 3)\n"
     ]
    }
   ],
   "source": [
    "data = np.array([[[1, 1, 1], [2, 2, 2]],\n",
    "         [[3, 3, 3], [4, 4, 4]],\n",
    "         [[5, 5, 5], [6, 6, 6]]])\n",
    "print(data.shape)"
   ]
  },
  {
   "cell_type": "code",
   "execution_count": 5,
   "metadata": {},
   "outputs": [
    {
     "name": "stdout",
     "output_type": "stream",
     "text": [
      "(2,)\n"
     ]
    }
   ],
   "source": [
    "indices = np.array([0,2])\n",
    "print(indices.shape)"
   ]
  },
  {
   "cell_type": "markdown",
   "metadata": {},
   "source": [
    "#### example 1"
   ]
  },
  {
   "cell_type": "code",
   "execution_count": 6,
   "metadata": {},
   "outputs": [
    {
     "data": {
      "text/plain": [
       "<tf.Tensor: id=7, shape=(2, 2, 3), dtype=int64, numpy=\n",
       "array([[[1, 1, 1],\n",
       "        [2, 2, 2]],\n",
       "\n",
       "       [[5, 5, 5],\n",
       "        [6, 6, 6]]])>"
      ]
     },
     "execution_count": 6,
     "metadata": {},
     "output_type": "execute_result"
    }
   ],
   "source": [
    "tf.gather(data, indices)"
   ]
  },
  {
   "cell_type": "markdown",
   "metadata": {},
   "source": [
    "- axis=0, indices选择0,2, data为(3,2,3)\n",
    "- 索引出的数组为[[[1, 1, 1],[2, 2, 2]], [[5, 5, 5],[6, 6, 6]]]是data矩阵axis=0轴的第1和第3个数组\n",
    "- data.shape[:0]=(); indeices.shape=(2,); data.shpe[1:]=(2,3)\n",
    "- 最后的输出大小为上述3个之和， () + (2,) + (2,3) => (2, 2, 3)"
   ]
  },
  {
   "cell_type": "markdown",
   "metadata": {},
   "source": [
    "#### example 2"
   ]
  },
  {
   "cell_type": "code",
   "execution_count": 7,
   "metadata": {},
   "outputs": [
    {
     "data": {
      "text/plain": [
       "<tf.Tensor: id=12, shape=(3, 2, 2), dtype=int64, numpy=\n",
       "array([[[1, 1],\n",
       "        [2, 2]],\n",
       "\n",
       "       [[3, 3],\n",
       "        [4, 4]],\n",
       "\n",
       "       [[5, 5],\n",
       "        [6, 6]]])>"
      ]
     },
     "execution_count": 7,
     "metadata": {},
     "output_type": "execute_result"
    }
   ],
   "source": [
    "tf.gather(data, indices, axis=2)"
   ]
  },
  {
   "cell_type": "markdown",
   "metadata": {},
   "source": [
    "- axis=2, indices选择[0,2], data为(3,2,3)\n",
    "- 索引出的数组为[[[1, 1],[2, 2]], [[3, 3],[4, 4]], [[5, 5],[6, 6]]]是data矩阵axis=2轴的第1和第3个数组\n",
    "- data.shape[:2]=(3,2); indeices.shape=(2,); data.shpe[2+1:]=()\n",
    "- 最后的输出大小为上述3个之和， (3,2) + (2,) + (0) => (3, 2, 2)"
   ]
  },
  {
   "cell_type": "markdown",
   "metadata": {},
   "source": [
    "### tf.gather_nd(params, indices, name=None)\n",
    "- 作用:将params索引为indices指定形状的切片数组中(indices代表索引后的数组形状)\n",
    "    - indices将切片定义为params的前N个维度，其中N = indices.shape [-1]\n",
    "    - 通常要求indices.shape[-1] <= params.rank(可以用np.ndim(params)查看)\n",
    "        - 如果等号成立是在索引具体元素\n",
    "        - 如果等号不成立是在沿params的indices.shape[-1]轴进行切片\n",
    "- 返回维度: indices.shape[:-1] + params.shape[indices.shape[-1]:]\n",
    "    - 前面的indices.shape[:-1]代表索引后的指定形状\n",
    "    \n",
    "########################################################################"
   ]
  },
  {
   "cell_type": "code",
   "execution_count": 8,
   "metadata": {},
   "outputs": [
    {
     "name": "stdout",
     "output_type": "stream",
     "text": [
      "data is \n",
      " [[[1 1 1]\n",
      "  [2 2 2]]\n",
      "\n",
      " [[3 3 3]\n",
      "  [4 4 4]]\n",
      "\n",
      " [[5 5 5]\n",
      "  [6 6 6]]]\n",
      "data shape is  (3, 2, 3)\n",
      "data rank is  3\n"
     ]
    }
   ],
   "source": [
    "data = np.array([[[1, 1, 1], [2, 2, 2]],\n",
    "         [[3, 3, 3], [4, 4, 4]],\n",
    "         [[5, 5, 5], [6, 6, 6]]])\n",
    "print(\"data is \\n\", data)\n",
    "print(\"data shape is \",data.shape)\n",
    "print(\"data rank is \", np.ndim(data))"
   ]
  },
  {
   "cell_type": "markdown",
   "metadata": {},
   "source": [
    "#### example 1"
   ]
  },
  {
   "cell_type": "code",
   "execution_count": 9,
   "metadata": {},
   "outputs": [
    {
     "name": "stdout",
     "output_type": "stream",
     "text": [
      "(2, 2)\n"
     ]
    }
   ],
   "source": [
    "indices = np.array([[0, 1], [1, 0]])\n",
    "print(indices.shape)"
   ]
  },
  {
   "cell_type": "code",
   "execution_count": 10,
   "metadata": {},
   "outputs": [
    {
     "data": {
      "text/plain": [
       "<tf.Tensor: id=16, shape=(2, 3), dtype=int64, numpy=\n",
       "array([[2, 2, 2],\n",
       "       [3, 3, 3]])>"
      ]
     },
     "execution_count": 10,
     "metadata": {},
     "output_type": "execute_result"
    }
   ],
   "source": [
    "# (indices.shape[-1]=2) < (np.ndim(data)=3), 沿data的axis=2轴切片\n",
    "tf.gather_nd(data, indices)"
   ]
  },
  {
   "cell_type": "markdown",
   "metadata": {},
   "source": [
    "- indices选择[[0, 1], [1, 0]], data为(3,2,3)\n",
    "- [0,1]的索引过程为选取axis=0的第1个数组得到[[1,1,1],[2,2,2]],\n",
    " 再选取axis=1的第2个数组得到[2,2,2]，[1,0]过程同理，最后索引出的是[[2,2,2],[3,3,3]]\n",
    "- indices.shape[:-1]=(2,); indices.shape[-1]=2; \n",
    "    data.shpe[indices.shape[-1]:]=>data.shape[2:]=(3,)\n",
    "- 最后的输出大小为上述2个之和， (2,) + (3,) => (2, 3)"
   ]
  },
  {
   "cell_type": "markdown",
   "metadata": {},
   "source": [
    "#### example 2"
   ]
  },
  {
   "cell_type": "code",
   "execution_count": 11,
   "metadata": {},
   "outputs": [
    {
     "name": "stdout",
     "output_type": "stream",
     "text": [
      "(1, 2, 3)\n"
     ]
    }
   ],
   "source": [
    "indices = np.array([[[0, 0, 1], [1, 1, 0]]])\n",
    "print(indices.shape)"
   ]
  },
  {
   "cell_type": "code",
   "execution_count": 12,
   "metadata": {},
   "outputs": [
    {
     "data": {
      "text/plain": [
       "<tf.Tensor: id=20, shape=(1, 2), dtype=int64, numpy=array([[1, 4]])>"
      ]
     },
     "execution_count": 12,
     "metadata": {},
     "output_type": "execute_result"
    }
   ],
   "source": [
    "# (indices.shape[-1]=3) < (np.ndim(data)=3), 取data对应位置的元素\n",
    "tf.gather_nd(data, indices)"
   ]
  },
  {
   "cell_type": "markdown",
   "metadata": {},
   "source": [
    "- indices选择[[[0, 0, 1], [1, 1, 0]]], data为(3,2,3)\n",
    "- [0,0,1]的索引过程为选取axis=0的第1个数组得到[[1,1,1],[2,2,2]],\n",
    " 再选取axis=1的第1个数组得到[1,1,1]，再取axis=3的第3个数组得到1,[1,1,0]过程同理，最后索引出的是[[1,4]]\n",
    "- indices.shape[:-1]=(1,2); indices.shape[-1]=3; \n",
    "    data.shpe[indices.shape[-1]:]=>data.shape[3:]=()\n",
    "- 最后的输出大小为上述2个之和， (1,2) + () => (1,2)"
   ]
  },
  {
   "cell_type": "code",
   "execution_count": null,
   "metadata": {},
   "outputs": [],
   "source": []
  }
 ],
 "metadata": {
  "kernelspec": {
   "display_name": "Python [conda env:anaconda3]",
   "language": "python",
   "name": "conda-env-anaconda3-py"
  },
  "language_info": {
   "codemirror_mode": {
    "name": "ipython",
    "version": 3
   },
   "file_extension": ".py",
   "mimetype": "text/x-python",
   "name": "python",
   "nbconvert_exporter": "python",
   "pygments_lexer": "ipython3",
   "version": "3.6.4"
  },
  "toc": {
   "base_numbering": 1,
   "nav_menu": {},
   "number_sections": true,
   "sideBar": true,
   "skip_h1_title": false,
   "title_cell": "Table of Contents",
   "title_sidebar": "Contents",
   "toc_cell": false,
   "toc_position": {},
   "toc_section_display": true,
   "toc_window_display": false
  }
 },
 "nbformat": 4,
 "nbformat_minor": 2
}
